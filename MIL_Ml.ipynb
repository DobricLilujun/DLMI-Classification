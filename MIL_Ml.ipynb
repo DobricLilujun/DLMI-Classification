{
  "cells": [
    {
      "cell_type": "code",
      "execution_count": 1,
      "metadata": {
        "_cell_guid": "b1076dfc-b9ad-4769-8c92-a6c4dae69d19",
        "_uuid": "8f2839f25d086af736a60e9eeb907d3b93b6e0e5",
        "id": "rSLu2YIAN5LQ"
      },
      "outputs": [],
      "source": [
        "# Needed\n",
        "import pandas as pd\n",
        "import numpy as np\n",
        "import matplotlib.pyplot as plt\n",
        "import os\n",
        "import copy\n",
        "import sys\n",
        "from datetime import datetime\n",
        "import random\n",
        "from tqdm import tqdm_notebook as tqdm\n",
        "from PIL import Image\n",
        "import cv2\n",
        "# Sklearn\n",
        "from sklearn.metrics import balanced_accuracy_score\n",
        "from sklearn.linear_model import LogisticRegression\n",
        "from sklearn.ensemble import RandomForestClassifier\n",
        "from sklearn.preprocessing import StandardScaler, MinMaxScaler\n",
        "from sklearn.model_selection import train_test_split, KFold, StratifiedKFold\n",
        "# Torch\n",
        "import torch\n",
        "from torch import nn, optim\n",
        "import torch.nn.functional as F\n",
        "from torch.utils.data import Dataset, DataLoader, Subset\n",
        "# TorchVision\n",
        "from torchvision import models, transforms, datasets\n",
        "from torchvision.utils import make_grid\n",
        "# Albumentations\n",
        "import albumentations as A\n",
        "from albumentations.pytorch import ToTensorV2\n",
        "# Hyperopt\n",
        "from hyperopt import hp\n",
        "from hyperopt import fmin, tpe\n",
        "\n",
        "\n",
        "device = torch.device('cuda')"
      ]
    },
    {
      "cell_type": "code",
      "source": [
        "from google.colab import drive\n",
        "drive.mount('/content/drive')"
      ],
      "metadata": {
        "colab": {
          "base_uri": "https://localhost:8080/"
        },
        "id": "HN5PxbdMPSkP",
        "outputId": "f8b752da-073a-4c64-c206-5d80f929a6b5"
      },
      "execution_count": 2,
      "outputs": [
        {
          "output_type": "stream",
          "name": "stdout",
          "text": [
            "Mounted at /content/drive\n"
          ]
        }
      ]
    },
    {
      "cell_type": "code",
      "execution_count": 3,
      "metadata": {
        "id": "DEMdj4ZsN5La"
      },
      "outputs": [],
      "source": [
        "def seed_everything(seed=42):\n",
        "    random.seed(seed)\n",
        "    os.environ['PYTHONHASHSEED'] = str(seed)\n",
        "    np.random.seed(seed)\n",
        "    torch.manual_seed(seed)\n",
        "    torch.backends.cudnn.deterministic = True\n",
        "    torch.backends.cudnn.benchmark = False"
      ]
    },
    {
      "cell_type": "code",
      "execution_count": 4,
      "metadata": {
        "id": "1n19nsUpN5Lb"
      },
      "outputs": [],
      "source": [
        "seed = 42\n",
        "seed_everything(seed)"
      ]
    },
    {
      "cell_type": "markdown",
      "metadata": {
        "id": "Ad5Zg8ECN5Lc"
      },
      "source": [
        "Preprocessing of DATA"
      ]
    },
    {
      "cell_type": "code",
      "execution_count": 5,
      "metadata": {
        "id": "u-1VynjQN5Lc"
      },
      "outputs": [],
      "source": [
        "df_train = pd.read_csv('/content/drive/MyDrive/Challenge1/trainset/trainset_true.csv')\n",
        "df_train['GENDER'] = df_train.GENDER.apply(lambda x: int(x=='F'))\n",
        "df_train['DOB'] = df_train['DOB'].apply(lambda x: x.replace(\"-\", \"/\"))\n",
        "df_train['AGE'] = df_train['DOB'].apply(lambda x: 2020-int(x.split(\"/\")[-1]))"
      ]
    },
    {
      "cell_type": "code",
      "execution_count": 6,
      "metadata": {
        "id": "7iCT6hVBN5Ld"
      },
      "outputs": [],
      "source": [
        "# sns.pairplot(df_train[['LABEL', 'GENDER', 'LYMPH_COUNT', \"AGE\"]])"
      ]
    },
    {
      "cell_type": "code",
      "execution_count": 7,
      "metadata": {
        "colab": {
          "base_uri": "https://localhost:8080/",
          "height": 206
        },
        "id": "u02-NRf6N5Ld",
        "outputId": "11450002-665e-47dc-eeca-f486b84eaa53"
      },
      "outputs": [
        {
          "output_type": "execute_result",
          "data": {
            "text/plain": [
              "     ID  LABEL  GENDER        DOB  LYMPH_COUNT  AGE\n",
              "0   P71     -1       0  1/17/1946         5.76   74\n",
              "1   P16     -1       0   3/5/1940        32.00   80\n",
              "2  P114     -1       0  6/16/1929         4.60   91\n",
              "3  P170     -1       0  11/3/1933         4.80   87\n",
              "4   P98     -1       1  5/14/1970         6.24   50"
            ],
            "text/html": [
              "\n",
              "  <div id=\"df-f7cc1e0f-9fad-425c-85c1-99ad8fd34470\" class=\"colab-df-container\">\n",
              "    <div>\n",
              "<style scoped>\n",
              "    .dataframe tbody tr th:only-of-type {\n",
              "        vertical-align: middle;\n",
              "    }\n",
              "\n",
              "    .dataframe tbody tr th {\n",
              "        vertical-align: top;\n",
              "    }\n",
              "\n",
              "    .dataframe thead th {\n",
              "        text-align: right;\n",
              "    }\n",
              "</style>\n",
              "<table border=\"1\" class=\"dataframe\">\n",
              "  <thead>\n",
              "    <tr style=\"text-align: right;\">\n",
              "      <th></th>\n",
              "      <th>ID</th>\n",
              "      <th>LABEL</th>\n",
              "      <th>GENDER</th>\n",
              "      <th>DOB</th>\n",
              "      <th>LYMPH_COUNT</th>\n",
              "      <th>AGE</th>\n",
              "    </tr>\n",
              "  </thead>\n",
              "  <tbody>\n",
              "    <tr>\n",
              "      <th>0</th>\n",
              "      <td>P71</td>\n",
              "      <td>-1</td>\n",
              "      <td>0</td>\n",
              "      <td>1/17/1946</td>\n",
              "      <td>5.76</td>\n",
              "      <td>74</td>\n",
              "    </tr>\n",
              "    <tr>\n",
              "      <th>1</th>\n",
              "      <td>P16</td>\n",
              "      <td>-1</td>\n",
              "      <td>0</td>\n",
              "      <td>3/5/1940</td>\n",
              "      <td>32.00</td>\n",
              "      <td>80</td>\n",
              "    </tr>\n",
              "    <tr>\n",
              "      <th>2</th>\n",
              "      <td>P114</td>\n",
              "      <td>-1</td>\n",
              "      <td>0</td>\n",
              "      <td>6/16/1929</td>\n",
              "      <td>4.60</td>\n",
              "      <td>91</td>\n",
              "    </tr>\n",
              "    <tr>\n",
              "      <th>3</th>\n",
              "      <td>P170</td>\n",
              "      <td>-1</td>\n",
              "      <td>0</td>\n",
              "      <td>11/3/1933</td>\n",
              "      <td>4.80</td>\n",
              "      <td>87</td>\n",
              "    </tr>\n",
              "    <tr>\n",
              "      <th>4</th>\n",
              "      <td>P98</td>\n",
              "      <td>-1</td>\n",
              "      <td>1</td>\n",
              "      <td>5/14/1970</td>\n",
              "      <td>6.24</td>\n",
              "      <td>50</td>\n",
              "    </tr>\n",
              "  </tbody>\n",
              "</table>\n",
              "</div>\n",
              "    <div class=\"colab-df-buttons\">\n",
              "\n",
              "  <div class=\"colab-df-container\">\n",
              "    <button class=\"colab-df-convert\" onclick=\"convertToInteractive('df-f7cc1e0f-9fad-425c-85c1-99ad8fd34470')\"\n",
              "            title=\"Convert this dataframe to an interactive table.\"\n",
              "            style=\"display:none;\">\n",
              "\n",
              "  <svg xmlns=\"http://www.w3.org/2000/svg\" height=\"24px\" viewBox=\"0 -960 960 960\">\n",
              "    <path d=\"M120-120v-720h720v720H120Zm60-500h600v-160H180v160Zm220 220h160v-160H400v160Zm0 220h160v-160H400v160ZM180-400h160v-160H180v160Zm440 0h160v-160H620v160ZM180-180h160v-160H180v160Zm440 0h160v-160H620v160Z\"/>\n",
              "  </svg>\n",
              "    </button>\n",
              "\n",
              "  <style>\n",
              "    .colab-df-container {\n",
              "      display:flex;\n",
              "      gap: 12px;\n",
              "    }\n",
              "\n",
              "    .colab-df-convert {\n",
              "      background-color: #E8F0FE;\n",
              "      border: none;\n",
              "      border-radius: 50%;\n",
              "      cursor: pointer;\n",
              "      display: none;\n",
              "      fill: #1967D2;\n",
              "      height: 32px;\n",
              "      padding: 0 0 0 0;\n",
              "      width: 32px;\n",
              "    }\n",
              "\n",
              "    .colab-df-convert:hover {\n",
              "      background-color: #E2EBFA;\n",
              "      box-shadow: 0px 1px 2px rgba(60, 64, 67, 0.3), 0px 1px 3px 1px rgba(60, 64, 67, 0.15);\n",
              "      fill: #174EA6;\n",
              "    }\n",
              "\n",
              "    .colab-df-buttons div {\n",
              "      margin-bottom: 4px;\n",
              "    }\n",
              "\n",
              "    [theme=dark] .colab-df-convert {\n",
              "      background-color: #3B4455;\n",
              "      fill: #D2E3FC;\n",
              "    }\n",
              "\n",
              "    [theme=dark] .colab-df-convert:hover {\n",
              "      background-color: #434B5C;\n",
              "      box-shadow: 0px 1px 3px 1px rgba(0, 0, 0, 0.15);\n",
              "      filter: drop-shadow(0px 1px 2px rgba(0, 0, 0, 0.3));\n",
              "      fill: #FFFFFF;\n",
              "    }\n",
              "  </style>\n",
              "\n",
              "    <script>\n",
              "      const buttonEl =\n",
              "        document.querySelector('#df-f7cc1e0f-9fad-425c-85c1-99ad8fd34470 button.colab-df-convert');\n",
              "      buttonEl.style.display =\n",
              "        google.colab.kernel.accessAllowed ? 'block' : 'none';\n",
              "\n",
              "      async function convertToInteractive(key) {\n",
              "        const element = document.querySelector('#df-f7cc1e0f-9fad-425c-85c1-99ad8fd34470');\n",
              "        const dataTable =\n",
              "          await google.colab.kernel.invokeFunction('convertToInteractive',\n",
              "                                                    [key], {});\n",
              "        if (!dataTable) return;\n",
              "\n",
              "        const docLinkHtml = 'Like what you see? Visit the ' +\n",
              "          '<a target=\"_blank\" href=https://colab.research.google.com/notebooks/data_table.ipynb>data table notebook</a>'\n",
              "          + ' to learn more about interactive tables.';\n",
              "        element.innerHTML = '';\n",
              "        dataTable['output_type'] = 'display_data';\n",
              "        await google.colab.output.renderOutput(dataTable, element);\n",
              "        const docLink = document.createElement('div');\n",
              "        docLink.innerHTML = docLinkHtml;\n",
              "        element.appendChild(docLink);\n",
              "      }\n",
              "    </script>\n",
              "  </div>\n",
              "\n",
              "\n",
              "<div id=\"df-4cf4f969-c3b8-4420-a402-cc22ef6b4ccf\">\n",
              "  <button class=\"colab-df-quickchart\" onclick=\"quickchart('df-4cf4f969-c3b8-4420-a402-cc22ef6b4ccf')\"\n",
              "            title=\"Suggest charts\"\n",
              "            style=\"display:none;\">\n",
              "\n",
              "<svg xmlns=\"http://www.w3.org/2000/svg\" height=\"24px\"viewBox=\"0 0 24 24\"\n",
              "     width=\"24px\">\n",
              "    <g>\n",
              "        <path d=\"M19 3H5c-1.1 0-2 .9-2 2v14c0 1.1.9 2 2 2h14c1.1 0 2-.9 2-2V5c0-1.1-.9-2-2-2zM9 17H7v-7h2v7zm4 0h-2V7h2v10zm4 0h-2v-4h2v4z\"/>\n",
              "    </g>\n",
              "</svg>\n",
              "  </button>\n",
              "\n",
              "<style>\n",
              "  .colab-df-quickchart {\n",
              "      --bg-color: #E8F0FE;\n",
              "      --fill-color: #1967D2;\n",
              "      --hover-bg-color: #E2EBFA;\n",
              "      --hover-fill-color: #174EA6;\n",
              "      --disabled-fill-color: #AAA;\n",
              "      --disabled-bg-color: #DDD;\n",
              "  }\n",
              "\n",
              "  [theme=dark] .colab-df-quickchart {\n",
              "      --bg-color: #3B4455;\n",
              "      --fill-color: #D2E3FC;\n",
              "      --hover-bg-color: #434B5C;\n",
              "      --hover-fill-color: #FFFFFF;\n",
              "      --disabled-bg-color: #3B4455;\n",
              "      --disabled-fill-color: #666;\n",
              "  }\n",
              "\n",
              "  .colab-df-quickchart {\n",
              "    background-color: var(--bg-color);\n",
              "    border: none;\n",
              "    border-radius: 50%;\n",
              "    cursor: pointer;\n",
              "    display: none;\n",
              "    fill: var(--fill-color);\n",
              "    height: 32px;\n",
              "    padding: 0;\n",
              "    width: 32px;\n",
              "  }\n",
              "\n",
              "  .colab-df-quickchart:hover {\n",
              "    background-color: var(--hover-bg-color);\n",
              "    box-shadow: 0 1px 2px rgba(60, 64, 67, 0.3), 0 1px 3px 1px rgba(60, 64, 67, 0.15);\n",
              "    fill: var(--button-hover-fill-color);\n",
              "  }\n",
              "\n",
              "  .colab-df-quickchart-complete:disabled,\n",
              "  .colab-df-quickchart-complete:disabled:hover {\n",
              "    background-color: var(--disabled-bg-color);\n",
              "    fill: var(--disabled-fill-color);\n",
              "    box-shadow: none;\n",
              "  }\n",
              "\n",
              "  .colab-df-spinner {\n",
              "    border: 2px solid var(--fill-color);\n",
              "    border-color: transparent;\n",
              "    border-bottom-color: var(--fill-color);\n",
              "    animation:\n",
              "      spin 1s steps(1) infinite;\n",
              "  }\n",
              "\n",
              "  @keyframes spin {\n",
              "    0% {\n",
              "      border-color: transparent;\n",
              "      border-bottom-color: var(--fill-color);\n",
              "      border-left-color: var(--fill-color);\n",
              "    }\n",
              "    20% {\n",
              "      border-color: transparent;\n",
              "      border-left-color: var(--fill-color);\n",
              "      border-top-color: var(--fill-color);\n",
              "    }\n",
              "    30% {\n",
              "      border-color: transparent;\n",
              "      border-left-color: var(--fill-color);\n",
              "      border-top-color: var(--fill-color);\n",
              "      border-right-color: var(--fill-color);\n",
              "    }\n",
              "    40% {\n",
              "      border-color: transparent;\n",
              "      border-right-color: var(--fill-color);\n",
              "      border-top-color: var(--fill-color);\n",
              "    }\n",
              "    60% {\n",
              "      border-color: transparent;\n",
              "      border-right-color: var(--fill-color);\n",
              "    }\n",
              "    80% {\n",
              "      border-color: transparent;\n",
              "      border-right-color: var(--fill-color);\n",
              "      border-bottom-color: var(--fill-color);\n",
              "    }\n",
              "    90% {\n",
              "      border-color: transparent;\n",
              "      border-bottom-color: var(--fill-color);\n",
              "    }\n",
              "  }\n",
              "</style>\n",
              "\n",
              "  <script>\n",
              "    async function quickchart(key) {\n",
              "      const quickchartButtonEl =\n",
              "        document.querySelector('#' + key + ' button');\n",
              "      quickchartButtonEl.disabled = true;  // To prevent multiple clicks.\n",
              "      quickchartButtonEl.classList.add('colab-df-spinner');\n",
              "      try {\n",
              "        const charts = await google.colab.kernel.invokeFunction(\n",
              "            'suggestCharts', [key], {});\n",
              "      } catch (error) {\n",
              "        console.error('Error during call to suggestCharts:', error);\n",
              "      }\n",
              "      quickchartButtonEl.classList.remove('colab-df-spinner');\n",
              "      quickchartButtonEl.classList.add('colab-df-quickchart-complete');\n",
              "    }\n",
              "    (() => {\n",
              "      let quickchartButtonEl =\n",
              "        document.querySelector('#df-4cf4f969-c3b8-4420-a402-cc22ef6b4ccf button');\n",
              "      quickchartButtonEl.style.display =\n",
              "        google.colab.kernel.accessAllowed ? 'block' : 'none';\n",
              "    })();\n",
              "  </script>\n",
              "</div>\n",
              "    </div>\n",
              "  </div>\n"
            ],
            "application/vnd.google.colaboratory.intrinsic+json": {
              "type": "dataframe",
              "variable_name": "df_test",
              "summary": "{\n  \"name\": \"df_test\",\n  \"rows\": 42,\n  \"fields\": [\n    {\n      \"column\": \"ID\",\n      \"properties\": {\n        \"dtype\": \"string\",\n        \"num_unique_values\": 42,\n        \"samples\": [\n          \"P195\",\n          \"P139\",\n          \"P81\"\n        ],\n        \"semantic_type\": \"\",\n        \"description\": \"\"\n      }\n    },\n    {\n      \"column\": \"LABEL\",\n      \"properties\": {\n        \"dtype\": \"number\",\n        \"std\": 0,\n        \"min\": -1,\n        \"max\": -1,\n        \"num_unique_values\": 1,\n        \"samples\": [\n          -1\n        ],\n        \"semantic_type\": \"\",\n        \"description\": \"\"\n      }\n    },\n    {\n      \"column\": \"GENDER\",\n      \"properties\": {\n        \"dtype\": \"number\",\n        \"std\": 0,\n        \"min\": 0,\n        \"max\": 1,\n        \"num_unique_values\": 2,\n        \"samples\": [\n          1\n        ],\n        \"semantic_type\": \"\",\n        \"description\": \"\"\n      }\n    },\n    {\n      \"column\": \"DOB\",\n      \"properties\": {\n        \"dtype\": \"object\",\n        \"num_unique_values\": 42,\n        \"samples\": [\n          \"9/3/1931\"\n        ],\n        \"semantic_type\": \"\",\n        \"description\": \"\"\n      }\n    },\n    {\n      \"column\": \"LYMPH_COUNT\",\n      \"properties\": {\n        \"dtype\": \"number\",\n        \"std\": 44.10955298347353,\n        \"min\": 4.08,\n        \"max\": 217.59,\n        \"num_unique_values\": 42,\n        \"samples\": [\n          184.16\n        ],\n        \"semantic_type\": \"\",\n        \"description\": \"\"\n      }\n    },\n    {\n      \"column\": \"AGE\",\n      \"properties\": {\n        \"dtype\": \"number\",\n        \"std\": 19,\n        \"min\": 21,\n        \"max\": 97,\n        \"num_unique_values\": 32,\n        \"samples\": [\n          63\n        ],\n        \"semantic_type\": \"\",\n        \"description\": \"\"\n      }\n    }\n  ]\n}"
            }
          },
          "metadata": {},
          "execution_count": 7
        }
      ],
      "source": [
        "df_test = pd.read_csv('/content/drive/MyDrive/Challenge1/testset/testset_data.csv')\n",
        "df_test['GENDER'] = df_test.GENDER.apply(lambda x: int(x=='F'))\n",
        "df_test['DOB'] = df_test['DOB'].apply(lambda x: x.replace(\"-\", \"/\"))\n",
        "df_test['AGE'] = df_test['DOB'].apply(lambda x: 2020-int(x.split(\"/\")[-1]))\n",
        "df_test.head()"
      ]
    },
    {
      "source": [
        "# @title LYMPH_COUNT vs AGE\n",
        "\n",
        "from matplotlib import pyplot as plt\n",
        "df_test.plot(kind='scatter', x='LYMPH_COUNT', y='AGE', s=32, alpha=.8)\n",
        "plt.gca().spines[['top', 'right',]].set_visible(False)"
      ],
      "cell_type": "code",
      "execution_count": 8,
      "outputs": [
        {
          "output_type": "display_data",
          "data": {
            "text/plain": [
              "<Figure size 640x480 with 1 Axes>"
            ],
            "image/png": "[encoded data removed]"
          },
          "metadata": {}
        }
      ],
      "metadata": {
        "cellView": "form",
        "colab": {
          "base_uri": "https://localhost:8080/",
          "height": 451
        },
        "id": "G_hFG4O64J1q",
        "outputId": "1aa0f920-5621-46aa-fe25-80f3e69a0923"
      }
    },
    {
      "source": [
        "# @title GENDER vs LYMPH_COUNT\n",
        "\n",
        "from matplotlib import pyplot as plt\n",
        "df_test.plot(kind='scatter', x='GENDER', y='LYMPH_COUNT', s=32, alpha=.8)\n",
        "plt.gca().spines[['top', 'right',]].set_visible(False)"
      ],
      "cell_type": "code",
      "execution_count": 9,
      "outputs": [
        {
          "output_type": "display_data",
          "data": {
            "text/plain": [
              "<Figure size 640x480 with 1 Axes>"
            ],
            "image/png": "[encoded data removed]"
          },
          "metadata": {}
        }
      ],
      "metadata": {
        "cellView": "form",
        "colab": {
          "base_uri": "https://localhost:8080/",
          "height": 449
        },
        "id": "ZUzl-hg04Hfp",
        "outputId": "1d04a78f-252c-4f01-d1db-edd165fa1036"
      }
    },
    {
      "source": [
        "# @title AGE\n",
        "\n",
        "from matplotlib import pyplot as plt\n",
        "df_test['AGE'].plot(kind='hist', bins=20, title='AGE')\n",
        "plt.gca().spines[['top', 'right',]].set_visible(False)"
      ],
      "cell_type": "code",
      "execution_count": 10,
      "outputs": [
        {
          "output_type": "display_data",
          "data": {
            "text/plain": [
              "<Figure size 640x480 with 1 Axes>"
            ],
            "image/png": "[encoded data removed]"
          },
          "metadata": {}
        }
      ],
      "metadata": {
        "cellView": "form",
        "colab": {
          "base_uri": "https://localhost:8080/",
          "height": 452
        },
        "id": "WqFBXI9X4Fm1",
        "outputId": "c70befa3-d4f7-4722-a488-4a1fb6ef838b"
      }
    },
    {
      "source": [
        "# @title LYMPH_COUNT\n",
        "\n",
        "from matplotlib import pyplot as plt\n",
        "df_test['LYMPH_COUNT'].plot(kind='hist', bins=20, title='LYMPH_COUNT')\n",
        "plt.gca().spines[['top', 'right',]].set_visible(False)"
      ],
      "cell_type": "code",
      "execution_count": 11,
      "outputs": [
        {
          "output_type": "display_data",
          "data": {
            "text/plain": [
              "<Figure size 640x480 with 1 Axes>"
            ],
            "image/png": "[encoded data removed]"
          },
          "metadata": {}
        }
      ],
      "metadata": {
        "cellView": "form",
        "colab": {
          "base_uri": "https://localhost:8080/",
          "height": 452
        },
        "id": "CeTu2vnL4DUt",
        "outputId": "dde9095b-84b7-4fb8-b323-bb5143098714"
      }
    },
    {
      "source": [
        "# @title GENDER\n",
        "\n",
        "from matplotlib import pyplot as plt\n",
        "df_test['GENDER'].plot(kind='hist', bins=20, title='GENDER')\n",
        "plt.gca().spines[['top', 'right',]].set_visible(False)"
      ],
      "cell_type": "code",
      "execution_count": 12,
      "outputs": [
        {
          "output_type": "display_data",
          "data": {
            "text/plain": [
              "<Figure size 640x480 with 1 Axes>"
            ],
            "image/png": "[encoded data removed]"
          },
          "metadata": {}
        }
      ],
      "metadata": {
        "cellView": "form",
        "colab": {
          "base_uri": "https://localhost:8080/",
          "height": 452
        },
        "id": "CDoKOc7l3zkx",
        "outputId": "80cb7d7e-0b2f-44a9-cf97-2f0de952ff8f"
      }
    },
    {
      "cell_type": "code",
      "execution_count": 13,
      "metadata": {
        "colab": {
          "base_uri": "https://localhost:8080/",
          "height": 430
        },
        "id": "Prw8KNTcN5Le",
        "outputId": "4774aad3-06cf-4dae-d7e1-9ddba9051ebf"
      },
      "outputs": [
        {
          "output_type": "display_data",
          "data": {
            "text/plain": [
              "<Figure size 640x480 with 1 Axes>"
            ],
            "image/png": "[encoded data removed]"
          },
          "metadata": {}
        }
      ],
      "source": [
        "df_train.LABEL.hist()\n",
        "plt.show()"
      ]
    },
    {
      "cell_type": "markdown",
      "metadata": {
        "id": "SxOmdKczN5Lf"
      },
      "source": [
        "# Baselines\n"
      ]
    },
    {
      "cell_type": "markdown",
      "metadata": {
        "id": "gZNl8Rg0N5Lh"
      },
      "source": [
        "Lymphocytes - counting\n",
        "\n",
        "\n",
        "\n",
        "If the LYMPH_COUNT is less than or equal to a certain threshold value, assign the label 0.\n",
        "If the LYMPH_COUNT is greater than the threshold value, assign the label 1.\n",
        "This heuristic approach suggests using LYMPH_COUNT as a predictive feature to determine the label, with a threshold value chosen to separate the two classes based on their average LYMPH_COUNT values."
      ]
    },
    {
      "cell_type": "code",
      "execution_count": 32,
      "metadata": {
        "id": "bRpGC6NXN5Lh"
      },
      "outputs": [],
      "source": [
        "def lymph_count_predictor(thres=7): #tried values for 6, 5\n",
        "    stratfold = StratifiedKFold(n_splits=5, shuffle=True, random_state=42)\n",
        "    split_scores = []\n",
        "    for train_index, test_index in stratfold.split(df_train, df_train.LABEL):\n",
        "        X_train, X_val = df_train.LYMPH_COUNT[train_index].values.reshape(-1, 1), df_train.LYMPH_COUNT[test_index].values.reshape(-1, 1)\n",
        "        y_train, y_val = df_train.LABEL[train_index], df_train.LABEL[test_index]\n",
        "        y_pred = [int(x>thres) for x in X_val]\n",
        "    #     print(\"Balanced Accuracy Score\", balanced_accuracy_score(y_val, y_pred))\n",
        "        split_scores.append(balanced_accuracy_score(y_val, y_pred))\n",
        "    return np.mean(split_scores)"
      ]
    },
    {
      "cell_type": "code",
      "execution_count": 15,
      "metadata": {
        "colab": {
          "base_uri": "https://localhost:8080/"
        },
        "id": "Ca-hRhYuN5Lh",
        "outputId": "b97b509c-f14b-4f1b-ab8d-dd962b633e5c"
      },
      "outputs": [
        {
          "output_type": "stream",
          "name": "stdout",
          "text": [
            "Mean Balanced Accuracy 0.8573913043478261\n"
          ]
        },
        {
          "output_type": "stream",
          "name": "stderr",
          "text": [
            "<ipython-input-14-7641a69def91>:7: DeprecationWarning: Conversion of an array with ndim > 0 to a scalar is deprecated, and will error in future. Ensure you extract a single element from your array before performing this operation. (Deprecated NumPy 1.25.)\n",
            "  y_pred = [int(x>thres) for x in X_val]\n",
            "<ipython-input-14-7641a69def91>:7: DeprecationWarning: Conversion of an array with ndim > 0 to a scalar is deprecated, and will error in future. Ensure you extract a single element from your array before performing this operation. (Deprecated NumPy 1.25.)\n",
            "  y_pred = [int(x>thres) for x in X_val]\n",
            "<ipython-input-14-7641a69def91>:7: DeprecationWarning: Conversion of an array with ndim > 0 to a scalar is deprecated, and will error in future. Ensure you extract a single element from your array before performing this operation. (Deprecated NumPy 1.25.)\n",
            "  y_pred = [int(x>thres) for x in X_val]\n",
            "<ipython-input-14-7641a69def91>:7: DeprecationWarning: Conversion of an array with ndim > 0 to a scalar is deprecated, and will error in future. Ensure you extract a single element from your array before performing this operation. (Deprecated NumPy 1.25.)\n",
            "  y_pred = [int(x>thres) for x in X_val]\n",
            "<ipython-input-14-7641a69def91>:7: DeprecationWarning: Conversion of an array with ndim > 0 to a scalar is deprecated, and will error in future. Ensure you extract a single element from your array before performing this operation. (Deprecated NumPy 1.25.)\n",
            "  y_pred = [int(x>thres) for x in X_val]\n"
          ]
        }
      ],
      "source": [
        "print(\"Mean Balanced Accuracy\",lymph_count_predictor(7.55)) #7.55"
      ]
    },
    {
      "cell_type": "markdown",
      "metadata": {
        "id": "SCcwgjmIN5Li"
      },
      "source": [
        "Final submission"
      ]
    },
    {
      "cell_type": "code",
      "source": [
        "# Create a DataFrame with predictions including the ID column\n",
        "predictions = pd.DataFrame({'ID': df_test['ID'], 'Predicted': y_pred})\n",
        "\n",
        "# Save predictions to CSV without index\n",
        "predictions.to_csv('submission.csv', index=False)"
      ],
      "metadata": {
        "id": "77OyJEDI9UTx"
      },
      "execution_count": 33,
      "outputs": []
    },
    {
      "cell_type": "markdown",
      "metadata": {
        "id": "E7DRqGwuN5Li"
      },
      "source": [
        "score of 0.82337"
      ]
    },
    {
      "cell_type": "code",
      "source": [
        "import matplotlib.pyplot as plt\n",
        "\n",
        "# Data\n",
        "threshold_values = [7.55, 6, 5]\n",
        "balanced_accuracy_scores = [0.857, 0.807, 0.756]\n",
        "\n",
        "# Colors for each line\n",
        "colors = ['b', 'g', 'r']\n",
        "\n",
        "# Plot each data point with a different color and connect with lines\n",
        "for i in range(len(threshold_values)):\n",
        "    plt.plot([0, threshold_values[i]], [0, balanced_accuracy_scores[i]], color=colors[i], marker='o', linestyle='-')\n",
        "\n",
        "# Title and labels\n",
        "plt.title('Balanced Accuracy Scores for Different Threshold Values')\n",
        "plt.xlabel('Threshold Value')\n",
        "plt.ylabel('Balanced Accuracy')\n",
        "\n",
        "# Show grid\n",
        "plt.grid(True)\n",
        "\n",
        "# Show plot\n",
        "plt.show()\n",
        "\n"
      ],
      "metadata": {
        "colab": {
          "base_uri": "https://localhost:8080/",
          "height": 472
        },
        "id": "cTEhbLJAztv8",
        "outputId": "de9e9f3c-b084-461c-c6b6-49ec0cd0ec16"
      },
      "execution_count": 22,
      "outputs": [
        {
          "output_type": "display_data",
          "data": {
            "text/plain": [
              "<Figure size 640x480 with 1 Axes>"
            ],
            "image/png": "[encoded data removed]"
          },
          "metadata": {}
        }
      ]
    },
    {
      "cell_type": "markdown",
      "metadata": {
        "id": "U7Rek6zdN5Lm"
      },
      "source": [
        "### RandomForest -Classifier\n"
      ]
    },
    {
      "cell_type": "code",
      "execution_count": 18,
      "metadata": {
        "id": "pzwd91gBN5Lm"
      },
      "outputs": [],
      "source": [
        "def rf_classifier(space):\n",
        "\n",
        "    n_estimators = space['n_estimators']\n",
        "    min_samples_leaf = space['min_samples_leaf']\n",
        "    max_depth = space['max_depth']\n",
        "    class_weight = space['class_weight']\n",
        "\n",
        "\n",
        "    stratfold = StratifiedKFold(n_splits=5)\n",
        "    split_scores = []\n",
        "    for train_index, test_index in stratfold.split(df_train, df_train.LABEL):\n",
        "        X_train, X_val = df_train[[\"LYMPH_COUNT\", \"AGE\", \"GENDER\"]].values[train_index], df_train[[\"LYMPH_COUNT\", \"AGE\", \"GENDER\"]].values[test_index]\n",
        "        y_train, y_val = df_train.LABEL[train_index], df_train.LABEL[test_index]\n",
        "        clf = RandomForestClassifier(random_state=42, n_estimators=n_estimators, min_samples_leaf=min_samples_leaf, max_depth=max_depth, class_weight=class_weight, n_jobs=-1)\n",
        "        clf.fit(X_train, y_train)\n",
        "        y_pred = clf.predict(X_val)\n",
        "        split_scores.append(balanced_accuracy_score(y_val, y_pred))\n",
        "    return 1-np.mean(split_scores)"
      ]
    },
    {
      "cell_type": "markdown",
      "source": [
        "Applying grid view to evaluate the best hyperparameter for random forest"
      ],
      "metadata": {
        "id": "1trHhGHg-FOW"
      }
    },
    {
      "cell_type": "code",
      "source": [
        "from sklearn.model_selection import GridSearchCV\n",
        "\n",
        "# Define the parameter grid for the grid search\n",
        "param_grid = {\n",
        "    'n_estimators': [100+i*100 for i in range(10)],\n",
        "    'min_samples_leaf': [1, 2, 5, 10],\n",
        "    'max_depth': [5, 8, 15, 25, 30],\n",
        "    'class_weight': [None, \"balanced\"]\n",
        "}\n",
        "\n",
        "# Create a random forest classifier\n",
        "clf = RandomForestClassifier(random_state=42)\n",
        "\n",
        "# Perform grid search\n",
        "grid_search = GridSearchCV(estimator=clf, param_grid=param_grid, cv=5, scoring='balanced_accuracy')\n",
        "grid_search.fit(df_train[[\"LYMPH_COUNT\", \"AGE\", \"GENDER\"]], df_train.LABEL)\n",
        "\n",
        "# Get the best hyperparameters\n",
        "best_params = grid_search.best_params_\n",
        "best_score = grid_search.best_score_\n",
        "\n",
        "print(\"Best hyperparameters:\", best_params)"
      ],
      "metadata": {
        "colab": {
          "base_uri": "https://localhost:8080/"
        },
        "id": "3Lgrp-uc-Rs8",
        "outputId": "e5e7bfad-dc3d-4f8a-8b5b-1eca6ead1a4a"
      },
      "execution_count": 34,
      "outputs": [
        {
          "output_type": "stream",
          "name": "stdout",
          "text": [
            "Best hyperparameters: {'class_weight': 'balanced', 'max_depth': 5, 'min_samples_leaf': 10, 'n_estimators': 100}\n"
          ]
        }
      ]
    },
    {
      "cell_type": "code",
      "execution_count": 35,
      "metadata": {
        "id": "6eq0M80pN5Lo"
      },
      "outputs": [],
      "source": [
        "clf_rf = RandomForestClassifier(**{'n_estimators':100,'min_samples_leaf':10,'max_depth':25,'class_weight':'balanced'})\n",
        "clf_rf.fit(df_train[[\"LYMPH_COUNT\", \"AGE\", \"GENDER\"]], df_train.LABEL)\n",
        "y_pred_rf =  clf_rf.predict(df_test[[\"LYMPH_COUNT\", \"AGE\", \"GENDER\"]])"
      ]
    },
    {
      "cell_type": "code",
      "execution_count": 36,
      "metadata": {
        "colab": {
          "base_uri": "https://localhost:8080/"
        },
        "id": "IUkRE1f9N5Lq",
        "outputId": "4adc72bf-e6c7-4923-81a5-cd8d56c1f177"
      },
      "outputs": [
        {
          "output_type": "execute_result",
          "data": {
            "text/plain": [
              "0.8721739130434782"
            ]
          },
          "metadata": {},
          "execution_count": 36
        }
      ],
      "source": [
        "1-rf_classifier({'n_estimators':100,'min_samples_leaf':10,'max_depth':25,'class_weight':'balanced'})"
      ]
    },
    {
      "cell_type": "markdown",
      "metadata": {
        "id": "6OI0-BUBN5Lr"
      },
      "source": [
        "# Ensembling rf + LR + cross validation\n"
      ]
    },
    {
      "cell_type": "code",
      "execution_count": 37,
      "metadata": {
        "colab": {
          "base_uri": "https://localhost:8080/"
        },
        "id": "RuNMol9ON5Lr",
        "outputId": "2df8d42a-6c48-42ac-f060-c4b0ed8e317c"
      },
      "outputs": [
        {
          "output_type": "stream",
          "name": "stdout",
          "text": [
            "Mean Balanced Accuracy 0.8466403162055336\n"
          ]
        }
      ],
      "source": [
        "stratfold = StratifiedKFold(n_splits=5, shuffle=True)\n",
        "split_scores = []\n",
        "for train_index, test_index in stratfold.split(df_train, df_train.LABEL):\n",
        "    X_train, X_val = df_train[[\"LYMPH_COUNT\", \"AGE\"]].values[train_index], df_train[[\"LYMPH_COUNT\", \"AGE\"]].values[test_index]\n",
        "    y_train, y_val = df_train.LABEL[train_index], df_train.LABEL[test_index]\n",
        "    clf_rf = RandomForestClassifier().fit(X_train, y_train)\n",
        "    clf_logreg = LogisticRegression().fit(X_train, y_train)\n",
        "    y_pred_det = [int(x>7) for x in X_val[:,0]]\n",
        "    y_pred_logreg =  clf_logreg.predict(X_val)\n",
        "    y_pred_rf =  clf_rf.predict(X_val)\n",
        "    # Build final prediction\n",
        "    y_pred = []\n",
        "    for i in range(len(X_val)):\n",
        "        prediction = np.argmax(np.bincount([y_pred_det[i], y_pred_logreg[i], y_pred_rf[i]]))\n",
        "        y_pred.append(prediction)\n",
        "    #print(\"Balanced Accuracy Score\", balanced_accuracy_score(y_val, y_pred))\n",
        "    split_scores.append(balanced_accuracy_score(y_val, y_pred))\n",
        "print(\"Mean Balanced Accuracy\", np.mean(split_scores))"
      ]
    },
    {
      "cell_type": "code",
      "execution_count": 38,
      "metadata": {
        "id": "6oCzDTHmN5Ls"
      },
      "outputs": [],
      "source": [
        "clf_rf = RandomForestClassifier().fit(df_train[[\"LYMPH_COUNT\", \"AGE\"]], df_train.LABEL)\n",
        "clf_logreg = LogisticRegression().fit(df_train[[\"LYMPH_COUNT\", \"AGE\"]], df_train.LABEL)\n",
        "\n",
        "y_pred_det = [int(df_test.iloc[i,4]>7) for i in range(len(df_test))]\n",
        "y_pred_logreg =  clf_logreg.predict(df_test[[\"LYMPH_COUNT\", \"AGE\"]])\n",
        "y_pred_rf =  clf_rf.predict(df_test[[\"LYMPH_COUNT\", \"AGE\"]])"
      ]
    },
    {
      "cell_type": "code",
      "execution_count": 39,
      "metadata": {
        "id": "XdR7Y7fmN5Ls"
      },
      "outputs": [],
      "source": [
        "import pandas as pd\n",
        "\n",
        "# Build final submissions\n",
        "y_pred = []\n",
        "for i in range(len(df_test)):\n",
        "    prediction = np.argmax(np.bincount([y_pred_det[i], y_pred_logreg[i], y_pred_rf[i]]))\n",
        "    y_pred.append(prediction)\n",
        "\n",
        "# Create a DataFrame with predictions including the ID column\n",
        "predictions = pd.DataFrame({'ID': df_test['ID'], 'Predicted': y_pred})\n",
        "\n",
        "# Save predictions to CSV without index\n",
        "predictions.to_csv('submission.csv', index=False)"
      ]
    },
    {
      "cell_type": "markdown",
      "metadata": {
        "id": "sMfwxKWFN5Lt"
      },
      "source": [
        "ensemble method scores 0.75"
      ]
    }
  ],
  "metadata": {
    "kernelspec": {
      "display_name": "l2s",
      "language": "python",
      "name": "l2s"
    },
    "language_info": {
      "codemirror_mode": {
        "name": "ipython",
        "version": 3
      },
      "file_extension": ".py",
      "mimetype": "text/x-python",
      "name": "python",
      "nbconvert_exporter": "python",
      "pygments_lexer": "ipython3",
      "version": "3.8.0"
    },
    "colab": {
      "provenance": []
    }
  },
  "nbformat": 4,
  "nbformat_minor": 0
}